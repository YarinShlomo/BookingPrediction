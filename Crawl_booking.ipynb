{
 "cells": [
  {
   "cell_type": "code",
   "execution_count": null,
   "metadata": {},
   "outputs": [],
   "source": [
    "import pandas as pd\n",
    "from selenium import webdriver\n",
    "from selenium.webdriver.common.by import By\n",
    "from selenium.webdriver.support.ui import WebDriverWait\n",
    "from selenium.webdriver.support import expected_conditions as EC\n",
    "from bs4 import BeautifulSoup\n",
    "import time\n",
    "from selenium.webdriver.chrome.service import Service\n",
    "from webdriver_manager.chrome import ChromeDriverManager\n",
    "import numpy as np\n",
    "import numbers"
   ]
  },
  {
   "cell_type": "markdown",
   "metadata": {},
   "source": [
    "# Initializations"
   ]
  },
  {
   "cell_type": "markdown",
   "metadata": {},
   "source": [
    "Chosen cities URLS"
   ]
  },
  {
   "cell_type": "code",
   "execution_count": null,
   "metadata": {},
   "outputs": [],
   "source": [
    "urlNY = \"https://www.booking.com/searchresults.html?label=gen173nr-1FCAEoggI46AdIM1gEaGqIAQGYATG4ARfIAQzYAQHoAQH4AQKIAgGoAgO4ArHjp44GwAIB0gIkNWViZWE2OTItZjAyOS00YzcyLWExOWItMTcyMzM1OGM5MTkx2AIF4AIB&sid=a8bf925fc326d2e0a4abaa6b9806896f&aid=304142&checkin=2022-01-26&checkout=2022-01-27&dest_id=20088325&dest_type=city&srpvid=a11983a2840201f3&ss=New+York&nflt=ht_id%3D204\"\n",
    "urlTLV = \"https://www.booking.com/searchresults.html?label=gen173nr-1FCAEoggI46AdIM1gEaGqIAQGYATG4ARfIAQzYAQHoAQH4AQKIAgGoAgO4ArHjp44GwAIB0gIkNWViZWE2OTItZjAyOS00YzcyLWExOWItMTcyMzM1OGM5MTkx2AIF4AIB&sid=a8bf925fc326d2e0a4abaa6b9806896f&aid=304142&lang=en-us&sb_lp=1&src=index&error_url=https%3A%2F%2Fwww.booking.com%2Findex.html%3Faid%3D304142%3Blabel%3Dgen173nr-1FCAEoggI46AdIM1gEaGqIAQGYATG4ARfIAQzYAQHoAQH4AQKIAgGoAgO4ArHjp44GwAIB0gIkNWViZWE2OTItZjAyOS00YzcyLWExOWItMTcyMzM1OGM5MTkx2AIF4AIB%3Bsid%3Da8bf925fc326d2e0a4abaa6b9806896f%3Bsb_price_type%3Dtotal%26%3B&ss=Tel+Aviv%2C+Center+District+Israel%2C+Israel&is_ski_area=&ssne=New+York&ssne_untouched=New+York&checkin_year=2022&checkin_month=1&checkin_monthday=26&checkout_year=2022&checkout_month=1&checkout_monthday=27&group_adults=2&group_children=0&no_rooms=1&b_h4u_keep_filters=&from_sf=1&search_pageview_id=7a6263a7dd3b01f8&ac_suggestion_list_length=5&ac_suggestion_theme_list_length=0&ac_position=0&ac_langcode=en&ac_click_type=b&dest_id=-781545&dest_type=city&iata=TLV&place_id_lat=32.07801&place_id_lon=34.774292&search_pageview_id=7a6263a7dd3b01f8&search_selected=true&ss_raw=TE&nflt=ht_id%3D204\"\n",
    "urlParis = \"https://www.booking.com/searchresults.html?label=gen173nr-1FCAEoggI46AdIM1gEaGqIAQGYATG4ARfIAQzYAQHoAQH4AQKIAgGoAgO4AsHIl48GwAIB0gIkZDg5MWE2YmQtMmJlNC00ZWY2LWI1ZDQtZGExZTdlOTM0ZGYz2AIF4AIB&sid=1168007b898f0f31606980682893b8f3&aid=304142&sb_lp=1&src=index&error_url=https%3A%2F%2Fwww.booking.com%2Findex.html%3Flabel%3Dgen173nr-1FCAEoggI46AdIM1gEaGqIAQGYATG4ARfIAQzYAQHoAQH4AQKIAgGoAgO4AsHIl48GwAIB0gIkZDg5MWE2YmQtMmJlNC00ZWY2LWI1ZDQtZGExZTdlOTM0ZGYz2AIF4AIB%3Bsid%3D1168007b898f0f31606980682893b8f3%3Bsb_price_type%3Dtotal%26%3B&ss=Paris%2C+Ile+de+France%2C+France&is_ski_area=&checkin_year=2022&checkin_month=2&checkin_monthday=26&checkout_year=2022&checkout_month=2&checkout_monthday=27&group_adults=2&group_children=0&no_rooms=1&b_h4u_keep_filters=&from_sf=1&ss_raw=pa&ac_position=0&ac_langcode=en&ac_click_type=b&dest_id=-1456928&dest_type=city&iata=PAR&place_id_lat=48.85668&place_id_lon=2.351476&search_pageview_id=579899607c3a003a&search_selected=true&search_pageview_id=579899607c3a003a&ac_suggestion_list_length=5&ac_suggestion_theme_list_length=0&nflt=ht_id%3D204\"\n",
    "urlRome = \"https://www.booking.com/searchresults.html?label=gen173nr-1FCAEoggI46AdIM1gEaGqIAQGYATG4ARfIAQzYAQHoAQH4AQKIAgGoAgO4AuSgmo8GwAIB0gIkNjY4NWUwM2EtODRmZC00MDViLWFlZGYtNGM2MzA5Mjc1NDAz2AIF4AIB&sid=ccb43af3fb55a4ec91007a2a3e9fdba3&aid=304142&src=searchresults&error_url=https%3A%2F%2Fwww.booking.com%2Fsearchresults.html%3Faid%3D304142%3Blabel%3Dgen173nr-1FCAEoggI46AdIM1gEaGqIAQGYATG4ARfIAQzYAQHoAQH4AQKIAgGoAgO4AuSgmo8GwAIB0gIkNjY4NWUwM2EtODRmZC00MDViLWFlZGYtNGM2MzA5Mjc1NDAz2AIF4AIB%3Bsid%3Dccb43af3fb55a4ec91007a2a3e9fdba3%3Btmpl%3Dsearchresults%3Bac_click_type%3Db%3Bac_position%3D0%3Bcheckin_month%3D1%3Bcheckin_monthday%3D26%3Bcheckin_year%3D2022%3Bcheckout_month%3D1%3Bcheckout_monthday%3D27%3Bcheckout_year%3D2022%3Bcity%3D-1995499%3Bclass_interval%3D1%3Bdest_id%3D-553173%3Bdest_type%3Dcity%3Bdtdisc%3D0%3Bfrom_sf%3D1%3Bgroup_adults%3D2%3Bgroup_children%3D0%3Biata%3DPRG%3Binac%3D0%3Bindex_postcard%3D0%3Blabel_click%3Dundef%3Bno_rooms%3D1%3Boffset%3D0%3Bpostcard%3D0%3Braw_dest_type%3Dcity%3Broom1%3DA%252CA%3Bsb_price_type%3Dtotal%3Bsearch_selected%3D1%3Bshw_aparth%3D1%3Bslp_r_match%3D0%3Bsrc%3Dsearchresults%3Bsrc_elem%3Dsb%3Bsrpvid%3D5c79471cd6ba0249%3Bss%3DPrague%252C%2520Czech%2520Republic%3Bss_all%3D0%3Bss_raw%3Dprague%3Bssb%3Dempty%3Bsshis%3D0%3Bssne%3DVienna%3Bssne_untouched%3DVienna%26%3B&ss=Rome%2C+Lazio%2C+Italy&is_ski_area=&ssne=Prague&ssne_untouched=Prague&city=-553173&checkin_year=2022&checkin_month=1&checkin_monthday=26&checkout_year=2022&checkout_month=1&checkout_monthday=27&group_adults=2&group_children=0&no_rooms=1&from_sf=1&ss_raw=rome&ac_position=0&ac_langcode=en&ac_click_type=b&dest_id=-126693&dest_type=city&iata=ROM&place_id_lat=41.89587&place_id_lon=12.482617&search_pageview_id=5c79471cd6ba0249&search_selected=true&search_pageview_id=5c79471cd6ba0249&ac_suggestion_list_length=5&ac_suggestion_theme_list_length=0&nflt=ht_id%3D204\"\n",
    "urlMoscow = \"https://www.booking.com/searchresults.html?label=gen173nr-1FCAEoggI46AdIM1gEaGqIAQGYATG4ARfIAQzYAQHoAQH4AQKIAgGoAgO4ApHPmo8GwAIB0gIkNjVmNTZmOGUtMWFjNy00MjAxLWFhZjEtYzQ2NmIzMjAzNjY02AIF4AIB&sid=dc4da8f14ff80ba36d8769a00826464f&aid=304142&sb_lp=1&src=index&error_url=https%3A%2F%2Fwww.booking.com%2Findex.html%3Faid%3D304142%3Blabel%3Dgen173nr-1FCAEoggI46AdIM1gEaGqIAQGYATG4ARfIAQzYAQHoAQH4AQKIAgGoAgO4ApHPmo8GwAIB0gIkNjVmNTZmOGUtMWFjNy00MjAxLWFhZjEtYzQ2NmIzMjAzNjY02AIF4AIB%3Bsid%3Ddc4da8f14ff80ba36d8769a00826464f%3Bsb_price_type%3Dtotal%3Bsrpvid%3D10d8526a28730058%26%3B&ss=Moscow%2C+Russia&is_ski_area=&ssne=Madrid&ssne_untouched=Madrid&checkin_year=2022&checkin_month=1&checkin_monthday=26&checkout_year=2022&checkout_month=1&checkout_monthday=27&group_adults=2&group_children=0&no_rooms=1&b_h4u_keep_filters=&from_sf=1&ss_raw=Mosc&ac_position=0&ac_langcode=en&ac_click_type=b&dest_id=-2960561&dest_type=city&iata=MOW&place_id_lat=55.7522&place_id_lon=37.6156&search_pageview_id=82dc526e327f01b7&search_selected=true&search_pageview_id=82dc526e327f01b7&ac_suggestion_list_length=5&ac_suggestion_theme_list_length=0&nflt=ht_id%3D204\"\n",
    "urlTokyo = \"https://www.booking.com/searchresults.html?label=gen173nr-1FCAEoggI46AdIM1gEaGqIAQGYATG4ARfIAQzYAQHoAQH4AQKIAgGoAgO4ApHPmo8GwAIB0gIkNjVmNTZmOGUtMWFjNy00MjAxLWFhZjEtYzQ2NmIzMjAzNjY02AIF4AIB&sid=dc4da8f14ff80ba36d8769a00826464f&aid=304142&src=searchresults&error_url=https%3A%2F%2Fwww.booking.com%2Fsearchresults.html%3Faid%3D304142%3Blabel%3Dgen173nr-1FCAEoggI46AdIM1gEaGqIAQGYATG4ARfIAQzYAQHoAQH4AQKIAgGoAgO4ApHPmo8GwAIB0gIkNjVmNTZmOGUtMWFjNy00MjAxLWFhZjEtYzQ2NmIzMjAzNjY02AIF4AIB%3Bsid%3Ddc4da8f14ff80ba36d8769a00826464f%3Btmpl%3Dsearchresults%3Bac_click_type%3Db%3Bac_position%3D0%3Bcheckin_month%3D1%3Bcheckin_monthday%3D26%3Bcheckin_year%3D2022%3Bcheckout_month%3D1%3Bcheckout_monthday%3D27%3Bcheckout_year%3D2022%3Bcity%3D-2960561%3Bclass_interval%3D1%3Bdest_id%3D-2167973%3Bdest_type%3Dcity%3Bdtdisc%3D0%3Bfrom_sf%3D1%3Bgroup_adults%3D2%3Bgroup_children%3D0%3Biata%3DLIS%3Binac%3D0%3Bindex_postcard%3D0%3Blabel_click%3Dundef%3Bno_rooms%3D1%3Boffset%3D0%3Bpostcard%3D0%3Braw_dest_type%3Dcity%3Broom1%3DA%252CA%3Bsb_price_type%3Dtotal%3Bsearch_selected%3D1%3Bshw_aparth%3D1%3Bslp_r_match%3D0%3Bsrc%3Dsearchresults%3Bsrc_elem%3Dsb%3Bsrpvid%3Df96c5f1626490253%3Bss%3DLisbon%252C%2520Lisbon%2520Region%252C%2520Portugal%3Bss_all%3D0%3Bss_raw%3Dlisbon%3Bssb%3Dempty%3Bsshis%3D0%3Bssne%3DMoscow%3Bssne_untouched%3DMoscow%26%3B&ss=Tokyo%2C+Tokyo-to%2C+Japan&is_ski_area=&ssne=Lisbon&ssne_untouched=Lisbon&city=-2167973&checkin_year=2022&checkin_month=1&checkin_monthday=26&checkout_year=2022&checkout_month=1&checkout_monthday=27&group_adults=2&group_children=0&no_rooms=1&from_sf=1&ss_raw=tokyo&ac_position=0&ac_langcode=en&ac_click_type=b&dest_id=-246227&dest_type=city&iata=TYO&place_id_lat=35.68596&place_id_lon=139.72952&search_pageview_id=f96c5f1626490253&search_selected=true&search_pageview_id=f96c5f1626490253&ac_suggestion_list_length=5&ac_suggestion_theme_list_length=0&nflt=ht_id%3D204\"\n",
    "urlSingapore = \"https://www.booking.com/searchresults.html?label=gen173nr-1FCAEoggI46AdIM1gEaGqIAQGYATG4ARfIAQzYAQHoAQH4AQKIAgGoAgO4ApHPmo8GwAIB0gIkNjVmNTZmOGUtMWFjNy00MjAxLWFhZjEtYzQ2NmIzMjAzNjY02AIF4AIB&sid=dc4da8f14ff80ba36d8769a00826464f&aid=304142&src=searchresults&error_url=https%3A%2F%2Fwww.booking.com%2Fsearchresults.html%3Faid%3D304142%3Blabel%3Dgen173nr-1FCAEoggI46AdIM1gEaGqIAQGYATG4ARfIAQzYAQHoAQH4AQKIAgGoAgO4ApHPmo8GwAIB0gIkNjVmNTZmOGUtMWFjNy00MjAxLWFhZjEtYzQ2NmIzMjAzNjY02AIF4AIB%3Bsid%3Ddc4da8f14ff80ba36d8769a00826464f%3Btmpl%3Dsearchresults%3Bac_click_type%3Db%3Bac_position%3D0%3Bcheckin_month%3D1%3Bcheckin_monthday%3D26%3Bcheckin_year%3D2022%3Bcheckout_month%3D1%3Bcheckout_monthday%3D27%3Bcheckout_year%3D2022%3Bcity%3D-2167973%3Bclass_interval%3D1%3Bdest_id%3D-246227%3Bdest_type%3Dcity%3Bdtdisc%3D0%3Bfrom_sf%3D1%3Bgroup_adults%3D2%3Bgroup_children%3D0%3Biata%3DTYO%3Binac%3D0%3Bindex_postcard%3D0%3Blabel_click%3Dundef%3Bno_rooms%3D1%3Boffset%3D0%3Bpostcard%3D0%3Braw_dest_type%3Dcity%3Broom1%3DA%252CA%3Bsb_price_type%3Dtotal%3Bsearch_selected%3D1%3Bshw_aparth%3D1%3Bslp_r_match%3D0%3Bsrc%3Dsearchresults%3Bsrc_elem%3Dsb%3Bsrpvid%3D81345f288089002f%3Bss%3DTokyo%252C%2520Tokyo-to%252C%2520Japan%3Bss_all%3D0%3Bss_raw%3Dtokyo%3Bssb%3Dempty%3Bsshis%3D0%3Bssne%3DLisbon%3Bssne_untouched%3DLisbon%26%3B&ss=Singapore%2C+Singapore&is_ski_area=&ssne=Tokyo&ssne_untouched=Tokyo&city=-246227&checkin_year=2022&checkin_month=1&checkin_monthday=26&checkout_year=2022&checkout_month=1&checkout_monthday=27&group_adults=2&group_children=0&no_rooms=1&from_sf=1&ss_raw=singapo&ac_position=0&ac_langcode=en&ac_click_type=b&dest_id=-73635&dest_type=city&iata=SIN&place_id_lat=1.29045&place_id_lon=103.85204&search_pageview_id=81345f288089002f&search_selected=true&search_pageview_id=81345f288089002f&ac_suggestion_list_length=5&ac_suggestion_theme_list_length=0&nflt=ht_id%3D204\"\n",
    "urlSeoul = \"https://www.booking.com/searchresults.html?label=gen173nr-1FCAEoggI46AdIM1gEaGqIAQGYATG4ARfIAQzYAQHoAQH4AQKIAgGoAgO4ApHPmo8GwAIB0gIkNjVmNTZmOGUtMWFjNy00MjAxLWFhZjEtYzQ2NmIzMjAzNjY02AIF4AIB&sid=a533864c89fcb160d8ad5ed4561cadba&aid=304142&src=searchresults&error_url=https%3A%2F%2Fwww.booking.com%2Fsearchresults.html%3Faid%3D304142%3Blabel%3Dgen173nr-1FCAEoggI46AdIM1gEaGqIAQGYATG4ARfIAQzYAQHoAQH4AQKIAgGoAgO4ApHPmo8GwAIB0gIkNjVmNTZmOGUtMWFjNy00MjAxLWFhZjEtYzQ2NmIzMjAzNjY02AIF4AIB%3Bsid%3Da533864c89fcb160d8ad5ed4561cadba%3Btmpl%3Dsearchresults%3Bac_click_type%3Db%3Bac_position%3D1%3Bcheckin_month%3D1%3Bcheckin_monthday%3D26%3Bcheckin_year%3D2022%3Bcheckout_month%3D1%3Bcheckout_monthday%3D27%3Bcheckout_year%3D2022%3Bcity%3D-73635%3Bclass_interval%3D1%3Bdest_id%3D-1353149%3Bdest_type%3Dcity%3Bdtdisc%3D0%3Bfrom_sf%3D1%3Bgroup_adults%3D2%3Bgroup_children%3D0%3Biata%3DHKG%3Binac%3D0%3Bindex_postcard%3D0%3Blabel_click%3Dundef%3Bnflt%3Dht_id%253D204%3Bno_rooms%3D1%3Boffset%3D0%3Bpostcard%3D0%3Braw_dest_type%3Dcity%3Broom1%3DA%252CA%3Bsb_price_type%3Dtotal%3Bsearch_selected%3D1%3Bshw_aparth%3D1%3Bslp_r_match%3D0%3Bsrc%3Dsearchresults%3Bsrpvid%3D3e5c7142e40d018c%3Bss%3DHong%2520Kong%252C%2520Hong%2520Kong%3Bss_all%3D0%3Bss_raw%3Dhon%3Bssb%3Dempty%3Bsshis%3D0%3Bssne%3DSingapore%3Bssne_untouched%3DSingapore%26%3B&ss=Seoul%2C+South+Korea&is_ski_area=&ssne=Hong+Kong&ssne_untouched=Hong+Kong&city=-1353149&checkin_year=2022&checkin_month=1&checkin_monthday=26&checkout_year=2022&checkout_month=1&checkout_monthday=27&group_adults=2&group_children=0&no_rooms=1&from_sf=1&ss_raw=seouk&ac_position=0&ac_langcode=en&ac_click_type=b&dest_id=-716583&dest_type=city&iata=SEL&place_id_lat=37.561893&place_id_lon=126.98116&search_pageview_id=3e5c7142e40d018c&search_selected=true&search_pageview_id=3e5c7142e40d018c&ac_suggestion_list_length=5&ac_suggestion_theme_list_length=0&nflt=ht_id%3D204\"\n",
    "urlNY = \"https://www.booking.com/searchresults.html?label=gen173nr-1FCAEoggI46AdIM1gEaGqIAQGYATG4ARfIAQzYAQHoAQH4AQKIAgGoAgO4ArHjp44GwAIB0gIkNWViZWE2OTItZjAyOS00YzcyLWExOWItMTcyMzM1OGM5MTkx2AIF4AIB&sid=a8bf925fc326d2e0a4abaa6b9806896f&aid=304142&checkin=2022-01-26&checkout=2022-01-27&dest_id=20088325&dest_type=city&srpvid=a11983a2840201f3&ss=New+York&nflt=ht_id%3D204\"\n",
    "urlTLV = \"https://www.booking.com/searchresults.html?label=gen173nr-1FCAEoggI46AdIM1gEaGqIAQGYATG4ARfIAQzYAQHoAQH4AQKIAgGoAgO4ArHjp44GwAIB0gIkNWViZWE2OTItZjAyOS00YzcyLWExOWItMTcyMzM1OGM5MTkx2AIF4AIB&sid=a8bf925fc326d2e0a4abaa6b9806896f&aid=304142&lang=en-us&sb_lp=1&src=index&error_url=https%3A%2F%2Fwww.booking.com%2Findex.html%3Faid%3D304142%3Blabel%3Dgen173nr-1FCAEoggI46AdIM1gEaGqIAQGYATG4ARfIAQzYAQHoAQH4AQKIAgGoAgO4ArHjp44GwAIB0gIkNWViZWE2OTItZjAyOS00YzcyLWExOWItMTcyMzM1OGM5MTkx2AIF4AIB%3Bsid%3Da8bf925fc326d2e0a4abaa6b9806896f%3Bsb_price_type%3Dtotal%26%3B&ss=Tel+Aviv%2C+Center+District+Israel%2C+Israel&is_ski_area=&ssne=New+York&ssne_untouched=New+York&checkin_year=2022&checkin_month=1&checkin_monthday=26&checkout_year=2022&checkout_month=1&checkout_monthday=27&group_adults=2&group_children=0&no_rooms=1&b_h4u_keep_filters=&from_sf=1&search_pageview_id=7a6263a7dd3b01f8&ac_suggestion_list_length=5&ac_suggestion_theme_list_length=0&ac_position=0&ac_langcode=en&ac_click_type=b&dest_id=-781545&dest_type=city&iata=TLV&place_id_lat=32.07801&place_id_lon=34.774292&search_pageview_id=7a6263a7dd3b01f8&search_selected=true&ss_raw=TE&nflt=ht_id%3D204\"\n",
    "urlBKRST = \"https://www.booking.com/searchresults.html?label=gen173nr-1FCAEoggI46AdIM1gEaGqIAQGYATG4ARfIAQzYAQHoAQH4AQKIAgGoAgO4ArHjp44GwAIB0gIkNWViZWE2OTItZjAyOS00YzcyLWExOWItMTcyMzM1OGM5MTkx2AIF4AIB&sid=a8bf925fc326d2e0a4abaa6b9806896f&aid=304142&lang=en-us&src=searchresults&error_url=https%3A%2F%2Fwww.booking.com%2Fsearchresults.html%3Faid%3D304142%3Blabel%3Dgen173nr-1FCAEoggI46AdIM1gEaGqIAQGYATG4ARfIAQzYAQHoAQH4AQKIAgGoAgO4ArHjp44GwAIB0gIkNWViZWE2OTItZjAyOS00YzcyLWExOWItMTcyMzM1OGM5MTkx2AIF4AIB%3Bsid%3Da8bf925fc326d2e0a4abaa6b9806896f%3Btmpl%3Dsearchresults%3Bac_click_type%3Db%3Bac_position%3D0%3Bcheckin_month%3D1%3Bcheckin_monthday%3D26%3Bcheckin_year%3D2022%3Bcheckout_month%3D1%3Bcheckout_monthday%3D27%3Bcheckout_year%3D2022%3Bcity%3D20088325%3Bclass_interval%3D1%3Bdest_id%3D302134%3Bdest_type%3Dhotel%3Bdtdisc%3D0%3Bfrom_sf%3D1%3Bgroup_adults%3D2%3Bgroup_children%3D0%3Binac%3D0%3Bindex_postcard%3D0%3Blabel_click%3Dundef%3Bno_rooms%3D1%3Boffset%3D0%3Bpostcard%3D0%3Braw_dest_type%3Dhotel%3Broom1%3DA%252CA%3Bsb_price_type%3Dtotal%3Bsearch_selected%3D1%3Bshw_aparth%3D1%3Bslp_r_match%3D0%3Bsrc%3Dsearchresults%3Bsrc_elem%3Dsb%3Bsrpvid%3Df0819a946f5d0214%3Bss%3DCrosby%2520Street%2520Hotel%252C%2520New%2520York%252C%2520New%2520York%2520State%252C%2520United%2520States%3Bss_all%3D0%3Bss_raw%3Dcros%3Bssb%3Dempty%3Bsshis%3D0%3Bssne%3DNew%2520York%3Bssne_untouched%3DNew%2520York%26%3B&ss=Bucharest%2C+Bucharest+-+Ilfov+Region%2C+Romania&is_ski_area=&ssne=New+York&ssne_untouched=New+York&city=20088325&checkin_year=2022&checkin_month=1&checkin_monthday=26&checkout_year=2022&checkout_month=1&checkout_monthday=27&group_adults=2&group_children=0&no_rooms=1&from_sf=1&ss_raw=BU&ac_position=1&ac_langcode=en&ac_click_type=b&dest_id=-1153951&dest_type=city&iata=BUH&place_id_lat=44.4333&place_id_lon=26.1&search_pageview_id=f0819a946f5d0214&search_selected=true&search_pageview_id=f0819a946f5d0214&ac_suggestion_list_length=5&ac_suggestion_theme_list_length=0&nflt=ht_id%3D204\"\n",
    "urlGRathn = \"https://www.booking.com/searchresults.html?label=gen173nr-1FCAEoggI46AdIM1gEaGqIAQGYATG4ARfIAQzYAQHoAQH4AQKIAgGoAgO4ArHjp44GwAIB0gIkNWViZWE2OTItZjAyOS00YzcyLWExOWItMTcyMzM1OGM5MTkx2AIF4AIB&sid=a8bf925fc326d2e0a4abaa6b9806896f&aid=304142&lang=en-us&src=searchresults&error_url=https%3A%2F%2Fwww.booking.com%2Fsearchresults.html%3Faid%3D304142%3Blabel%3Dgen173nr-1FCAEoggI46AdIM1gEaGqIAQGYATG4ARfIAQzYAQHoAQH4AQKIAgGoAgO4ArHjp44GwAIB0gIkNWViZWE2OTItZjAyOS00YzcyLWExOWItMTcyMzM1OGM5MTkx2AIF4AIB%3Bsid%3Da8bf925fc326d2e0a4abaa6b9806896f%3Btmpl%3Dsearchresults%3Bac_click_type%3Db%3Bac_position%3D1%3Bcheckin_month%3D1%3Bcheckin_monthday%3D26%3Bcheckin_year%3D2022%3Bcheckout_month%3D1%3Bcheckout_monthday%3D27%3Bcheckout_year%3D2022%3Bcity%3D20088325%3Bclass_interval%3D1%3Bdest_id%3D-1153951%3Bdest_type%3Dcity%3Bdtdisc%3D0%3Bfrom_sf%3D1%3Bgroup_adults%3D2%3Bgroup_children%3D0%3Biata%3DBUH%3Binac%3D0%3Bindex_postcard%3D0%3Blabel_click%3Dundef%3Bnflt%3Dht_id%253D204%3Bno_rooms%3D1%3Boffset%3D0%3Bpostcard%3D0%3Braw_dest_type%3Dcity%3Broom1%3DA%252CA%3Bsb_price_type%3Dtotal%3Bsearch_selected%3D1%3Bshw_aparth%3D1%3Bslp_r_match%3D0%3Bsrc%3Dsearchresults%3Bsrpvid%3Db48c3c8915de030d%3Bss%3DBucharest%252C%2520Bucharest%2520-%2520Ilfov%2520Region%252C%2520Romania%3Bss_all%3D0%3Bss_raw%3DBU%3Bssb%3Dempty%3Bsshis%3D0%3Bssne%3DNew%2520York%3Bssne_untouched%3DNew%2520York%26%3B&ss=Athens%2C+Attica%2C+Greece&is_ski_area=&ssne=Bucharest&ssne_untouched=Bucharest&city=-1153951&checkin_year=2022&checkin_month=1&checkin_monthday=26&checkout_year=2022&checkout_month=1&checkout_monthday=27&group_adults=2&group_children=0&no_rooms=1&from_sf=1&ss_raw=greece+a&ac_position=0&ac_langcode=en&ac_click_type=b&dest_id=-814876&dest_type=city&iata=ATH&place_id_lat=37.97566&place_id_lon=23.734865&search_pageview_id=b48c3c8915de030d&search_selected=true&search_pageview_id=b48c3c8915de030d&ac_suggestion_list_length=5&ac_suggestion_theme_list_length=0&nflt=ht_id%3D204\"\n",
    "urlBarca = \"https://www.booking.com/searchresults.html?label=gen173nr-1FCAEoggI46AdIM1gEaGqIAQGYATG4ARfIAQzYAQHoAQH4AQKIAgGoAgO4ArHjp44GwAIB0gIkNWViZWE2OTItZjAyOS00YzcyLWExOWItMTcyMzM1OGM5MTkx2AIF4AIB&sid=a8bf925fc326d2e0a4abaa6b9806896f&aid=304142&lang=en-us&src=searchresults&error_url=https%3A%2F%2Fwww.booking.com%2Fsearchresults.html%3Faid%3D304142%3Blabel%3Dgen173nr-1FCAEoggI46AdIM1gEaGqIAQGYATG4ARfIAQzYAQHoAQH4AQKIAgGoAgO4ArHjp44GwAIB0gIkNWViZWE2OTItZjAyOS00YzcyLWExOWItMTcyMzM1OGM5MTkx2AIF4AIB%3Bsid%3Da8bf925fc326d2e0a4abaa6b9806896f%3Btmpl%3Dsearchresults%3Bac_click_type%3Db%3Bac_position%3D1%3Bcheckin_month%3D1%3Bcheckin_monthday%3D26%3Bcheckin_year%3D2022%3Bcheckout_month%3D1%3Bcheckout_monthday%3D27%3Bcheckout_year%3D2022%3Bclass_interval%3D1%3Bdest_id%3D734%3Bdest_type%3Dregion%3Bdtdisc%3D0%3Bfrom_sf%3D1%3Bgroup_adults%3D2%3Bgroup_children%3D0%3Binac%3D0%3Bindex_postcard%3D0%3Blabel_click%3Dundef%3Bno_rooms%3D1%3Boffset%3D0%3Bpostcard%3D0%3Braw_dest_type%3Dregion%3Broom1%3DA%252CA%3Bsb_price_type%3Dtotal%3Bsearch_selected%3D1%3Bshw_aparth%3D1%3Bslp_r_match%3D0%3Bsrc%3Dsearchresults%3Bsrc_elem%3Dsb%3Bsrpvid%3D82dc56e1caab012f%3Bss%3DCatalonia%252C%2520Spain%3Bss_all%3D0%3Bss_raw%3Dcata%3Bssb%3Dempty%3Bsshis%3D0%3Bssne%3DCosta%2520Brava%3Bssne_untouched%3DCosta%2520Brava%26%3B&ss=Barcelona%2C+Catalonia%2C+Spain&is_ski_area=&ssne=Catalonia&ssne_untouched=Catalonia&checkin_year=2022&checkin_month=1&checkin_monthday=26&checkout_year=2022&checkout_month=1&checkout_monthday=27&group_adults=2&group_children=0&no_rooms=1&from_sf=1&ss_raw=ba&ac_position=1&ac_langcode=en&ac_click_type=b&dest_id=-372490&dest_type=city&iata=BCN&place_id_lat=41.3871&place_id_lon=2.17001&search_pageview_id=82dc56e1caab012f&search_selected=true&search_pageview_id=82dc56e1caab012f&ac_suggestion_list_length=5&ac_suggestion_theme_list_length=0&nflt=ht_id%3D204\"\n",
    "urlBudapest = \"https://www.booking.com/searchresults.html?label=gen173nr-1FCAEoggI46AdIM1gEaGqIAQGYATG4ARfIAQzYAQHoAQH4AQKIAgGoAgO4ArHjp44GwAIB0gIkNWViZWE2OTItZjAyOS00YzcyLWExOWItMTcyMzM1OGM5MTkx2AIF4AIB&sid=a8bf925fc326d2e0a4abaa6b9806896f&aid=304142&lang=en-us&src=searchresults&error_url=https%3A%2F%2Fwww.booking.com%2Fsearchresults.html%3Faid%3D304142%3Blabel%3Dgen173nr-1FCAEoggI46AdIM1gEaGqIAQGYATG4ARfIAQzYAQHoAQH4AQKIAgGoAgO4ArHjp44GwAIB0gIkNWViZWE2OTItZjAyOS00YzcyLWExOWItMTcyMzM1OGM5MTkx2AIF4AIB%3Bsid%3Da8bf925fc326d2e0a4abaa6b9806896f%3Btmpl%3Dsearchresults%3Bac_click_type%3Db%3Bac_position%3D2%3Bcheckin_month%3D1%3Bcheckin_monthday%3D26%3Bcheckin_year%3D2022%3Bcheckout_month%3D1%3Bcheckout_monthday%3D27%3Bcheckout_year%3D2022%3Bcity%3D-372490%3Bclass_interval%3D1%3Bdest_id%3D-1995499%3Bdest_type%3Dcity%3Bdtdisc%3D0%3Bfrom_sf%3D1%3Bgroup_adults%3D2%3Bgroup_children%3D0%3Biata%3DVIE%3Binac%3D0%3Bindex_postcard%3D0%3Blabel_click%3Dundef%3Bno_rooms%3D1%3Boffset%3D0%3Bpostcard%3D0%3Braw_dest_type%3Dcity%3Broom1%3DA%252CA%3Bsb_price_type%3Dtotal%3Bsearch_selected%3D1%3Bshw_aparth%3D1%3Bslp_r_match%3D0%3Bsrc%3Dsearchresults%3Bsrc_elem%3Dsb%3Bsrpvid%3D1f8e63413bc00098%3Bss%3DVienna%252C%2520Vienna%2520%2528state%2529%252C%2520Austria%3Bss_all%3D0%3Bss_raw%3Daustri%3Bssb%3Dempty%3Bsshis%3D0%3Bssne%3DBarcelona%3Bssne_untouched%3DBarcelona%26%3B&ss=Budapest%2C+Pest%2C+Hungary&is_ski_area=&ssne=Vienna&ssne_untouched=Vienna&city=-1995499&checkin_year=2022&checkin_month=1&checkin_monthday=26&checkout_year=2022&checkout_month=1&checkout_monthday=27&group_adults=2&group_children=0&no_rooms=1&from_sf=1&search_pageview_id=1f8e63413bc00098&ac_suggestion_list_length=5&ac_suggestion_theme_list_length=0&ac_position=0&ac_langcode=en&ac_click_type=b&dest_id=-850553&dest_type=city&iata=BUD&place_id_lat=47.499542&place_id_lon=19.046242&search_pageview_id=1f8e63413bc00098&search_selected=true&ss_raw=buda&nflt=ht_id%3D204\"\n",
    "urlBerling = \"https://www.booking.com/searchresults.html?label=gen173nr-1FCAEoggI46AdIM1gEaGqIAQGYATG4ARfIAQzYAQHoAQH4AQKIAgGoAgO4ArHjp44GwAIB0gIkNWViZWE2OTItZjAyOS00YzcyLWExOWItMTcyMzM1OGM5MTkx2AIF4AIB&sid=a8bf925fc326d2e0a4abaa6b9806896f&aid=304142&lang=en-us&src=searchresults&error_url=https%3A%2F%2Fwww.booking.com%2Fsearchresults.html%3Faid%3D304142%3Blabel%3Dgen173nr-1FCAEoggI46AdIM1gEaGqIAQGYATG4ARfIAQzYAQHoAQH4AQKIAgGoAgO4ArHjp44GwAIB0gIkNWViZWE2OTItZjAyOS00YzcyLWExOWItMTcyMzM1OGM5MTkx2AIF4AIB%3Bsid%3Da8bf925fc326d2e0a4abaa6b9806896f%3Btmpl%3Dsearchresults%3Bcheckin_month%3D1%3Bcheckin_monthday%3D26%3Bcheckin_year%3D2022%3Bcheckout_month%3D1%3Bcheckout_monthday%3D27%3Bcheckout_year%3D2022%3Bcity%3D-74897%3Bclass_interval%3D1%3Bdest_id%3D-74897%3Bdest_type%3Dcity%3Bdtdisc%3D0%3Bfrom_sf%3D1%3Bgroup_adults%3D2%3Bgroup_children%3D0%3Binac%3D0%3Bindex_postcard%3D0%3Blabel_click%3Dundef%3Bno_rooms%3D1%3Boffset%3D0%3Bpostcard%3D0%3Broom1%3DA%252CA%3Bsb_price_type%3Dtotal%3Bshw_aparth%3D1%3Bslp_r_match%3D0%3Bsrc%3Dsearchresults%3Bsrc_elem%3Dsb%3Bsrpvid%3Da5496a2a72470191%3Bss%3Dberlin%3Bss_all%3D0%3Bss_raw%3Dberlin%3Bssb%3Dempty%3Bsshis%3D0%3Bssne%3DBelgrade%3Bssne_untouched%3DBelgrade%26%3B&ss=Berlin%2C+Berlin+Federal+State%2C+Germany&is_ski_area=&ssne=Belgrade&ssne_untouched=Belgrade&city=-74897&checkin_year=2022&checkin_month=1&checkin_monthday=26&checkout_year=2022&checkout_month=1&checkout_monthday=27&group_adults=2&group_children=0&no_rooms=1&from_sf=1&ss_raw=berlin&ac_position=0&ac_langcode=en&ac_click_type=b&dest_id=-1746443&dest_type=city&iata=BER&place_id_lat=52.516212&place_id_lon=13.376817&search_pageview_id=a5496a2a72470191&search_selected=true&search_pageview_id=a5496a2a72470191&ac_suggestion_list_length=5&ac_suggestion_theme_list_length=0&nflt=ht_id%3D204&shw_aparth=0\"\n",
    "urlIstanbul = \"https://www.booking.com/searchresults.html?label=booking-name-he-ZjzRvp_RD_yeZ9lEt5OinQS494862991881%3Apl%3Ata%3Ap1%3Ap22%2C563%2C000%3Aac%3Aap%3Aneg%3Afi%3Atikwd-65526620%3Alp1008002%3Ali%3Adec%3Adm%3Appccp%3DUmFuZG9tSVYkc2RlIyh9YcX_GyndjDE1z6LWmEwkC5A&sid=40e136fb5828f5effab297ab83434475&aid=376388&lang=en-us&src=searchresults&error_url=https%3A%2F%2Fwww.booking.com%2Fsearchresults.html%3Faid%3D376388%3Blabel%3Dbooking-name-he-ZjzRvp_RD_yeZ9lEt5OinQS494862991881%253Apl%253Ata%253Ap1%253Ap22%252C563%252C000%253Aac%253Aap%253Aneg%253Afi%253Atikwd-65526620%253Alp1008002%253Ali%253Adec%253Adm%253Appccp%253DUmFuZG9tSVYkc2RlIyh9YcX_GyndjDE1z6LWmEwkC5A%3Bsid%3D40e136fb5828f5effab297ab83434475%3Btmpl%3Dsearchresults%3Bac_click_type%3Db%3Bac_position%3D1%3Bcheckin_month%3D1%3Bcheckin_monthday%3D26%3Bcheckin_year%3D2022%3Bcheckout_month%3D1%3Bcheckout_monthday%3D27%3Bcheckout_year%3D2022%3Bcity%3D-2738671%3Bclass_interval%3D1%3Bdest_id%3D-493500%3Bdest_type%3Dcity%3Bdtdisc%3D0%3Bfrom_sf%3D1%3Bgroup_adults%3D2%3Bgroup_children%3D0%3Binac%3D0%3Bindex_postcard%3D0%3Blabel_click%3Dundef%3Bno_rooms%3D1%3Boffset%3D0%3Bpostcard%3D0%3Braw_dest_type%3Dcity%3Broom1%3DA%252CA%3Bsb_price_type%3Dtotal%3Bsearch_selected%3D1%3Bshw_aparth%3D1%3Bslp_r_match%3D0%3Bsrc%3Dsearchresults%3Bsrc_elem%3Dsb%3Bsrpvid%3Dd78b58415e090157%3Bss%3DBia%25C5%2582ystok%252C%2520Podlaskie%252C%2520Poland%3Bss_all%3D0%3Bss_raw%3Dbial%3Bssb%3Dempty%3Bsshis%3D0%3Bssne%3DPaphos%3Bssne_untouched%3DPaphos%26%3B&ss=Istanbul%2C+Marmara+Region%2C+Turkey&is_ski_area=&ssne=Bia%C5%82ystok&ssne_untouched=Bia%C5%82ystok&city=-493500&checkin_year=2022&checkin_month=1&checkin_monthday=26&checkout_year=2022&checkout_month=1&checkout_monthday=27&group_adults=2&group_children=0&no_rooms=1&from_sf=1&search_pageview_id=d78b58415e090157&ac_suggestion_list_length=5&ac_suggestion_theme_list_length=0&ac_position=4&ac_langcode=en&ac_click_type=b&dest_id=-755070&dest_type=city&iata=IST&place_id_lat=41.00817&place_id_lon=28.974445&search_pageview_id=d78b58415e090157&search_selected=true&ss_raw=b&nflt=ht_id%3D204\"\n",
    "urlLondon = \"https://www.booking.com/searchresults.html?label=booking-name-he-ZjzRvp_RD_yeZ9lEt5OinQS494862991881%3Apl%3Ata%3Ap1%3Ap22%2C563%2C000%3Aac%3Aap%3Aneg%3Afi%3Atikwd-65526620%3Alp1008002%3Ali%3Adec%3Adm%3Appccp%3DUmFuZG9tSVYkc2RlIyh9YcX_GyndjDE1z6LWmEwkC5A&sid=40e136fb5828f5effab297ab83434475&aid=376388&lang=en-us&src=searchresults&error_url=https%3A%2F%2Fwww.booking.com%2Fsearchresults.html%3Faid%3D376388%3Blabel%3Dbooking-name-he-ZjzRvp_RD_yeZ9lEt5OinQS494862991881%253Apl%253Ata%253Ap1%253Ap22%252C563%252C000%253Aac%253Aap%253Aneg%253Afi%253Atikwd-65526620%253Alp1008002%253Ali%253Adec%253Adm%253Appccp%253DUmFuZG9tSVYkc2RlIyh9YcX_GyndjDE1z6LWmEwkC5A%3Bsid%3D40e136fb5828f5effab297ab83434475%3Btmpl%3Dsearchresults%3Bac_click_type%3Db%3Bac_position%3D4%3Bcheckin_month%3D1%3Bcheckin_monthday%3D26%3Bcheckin_year%3D2022%3Bcheckout_month%3D1%3Bcheckout_monthday%3D27%3Bcheckout_year%3D2022%3Bcity%3D-493500%3Bclass_interval%3D1%3Bdest_id%3D-755070%3Bdest_type%3Dcity%3Bdtdisc%3D0%3Bfrom_sf%3D1%3Bgroup_adults%3D2%3Bgroup_children%3D0%3Biata%3DIST%3Binac%3D0%3Bindex_postcard%3D0%3Blabel_click%3Dundef%3Bnflt%3Dht_id%253D204%3Bno_rooms%3D1%3Boffset%3D0%3Bpostcard%3D0%3Braw_dest_type%3Dcity%3Broom1%3DA%252CA%3Bsb_price_type%3Dtotal%3Bsearch_selected%3D1%3Bshw_aparth%3D1%3Bslp_r_match%3D0%3Bsrc%3Dsearchresults%3Bsrpvid%3D8c4f5023128100a2%3Bss%3DIstanbul%252C%2520Marmara%2520Region%252C%2520Turkey%3Bss_all%3D0%3Bss_raw%3Db%3Bssb%3Dempty%3Bsshis%3D0%3Bssne%3DBia%25C5%2582ystok%3Bssne_untouched%3DBia%25C5%2582ystok%26%3B&ss=London%2C+Greater+London%2C+United+Kingdom&is_ski_area=&ssne=Istanbul&ssne_untouched=Istanbul&city=-755070&checkin_year=2022&checkin_month=1&checkin_monthday=26&checkout_year=2022&checkout_month=1&checkout_monthday=27&group_adults=2&group_children=0&no_rooms=1&from_sf=1&search_pageview_id=8c4f5023128100a2&ac_suggestion_list_length=2&ac_suggestion_theme_list_length=0&ac_position=0&ac_langcode=en&ac_click_type=b&dest_id=-2601889&dest_type=city&iata=LON&place_id_lat=51.507393&place_id_lon=-0.127634&search_pageview_id=8c4f5023128100a2&search_selected=true&ss_raw=%D7%9A%D7%9D%D7%9E%D7%92&nflt=ht_id%3D204\""
   ]
  },
  {
   "cell_type": "markdown",
   "metadata": {},
   "source": [
    "Webdriver initialization"
   ]
  },
  {
   "cell_type": "code",
   "execution_count": null,
   "metadata": {},
   "outputs": [],
   "source": [
    "PATH = r\"C:\\Program Files (x86)\\chromedriver.exe\"\n",
    "s = Service(ChromeDriverManager().install())\n",
    "driver = webdriver.Chrome(service=s)\n",
    "driver.get(urlNY)"
   ]
  },
  {
   "cell_type": "markdown",
   "metadata": {},
   "source": [
    "Lists initialization"
   ]
  },
  {
   "cell_type": "code",
   "execution_count": null,
   "metadata": {},
   "outputs": [],
   "source": [
    "hotel_names = []\n",
    "prices = []\n",
    "overall_rating = []\n",
    "num_of_reviews = []\n",
    "num_of_stars = []\n",
    "\n",
    "location_score = []\n",
    "cleanliness_score = []\n",
    "staff_score = []\n",
    "comfort_score = []\n",
    "value_for_money_score = []\n",
    "facilities_score = []\n",
    "free_wifi_score = []\n",
    "\n",
    "closest_attraction_dist = []\n",
    "closest_transportation = [] \n",
    "closest_airport = []\n",
    "num_of_languages_spoken = []\n",
    "\n",
    "is_pets_allowed = []\n",
    "num_of_payment_methods = []"
   ]
  },
  {
   "cell_type": "code",
   "execution_count": null,
   "metadata": {},
   "outputs": [],
   "source": [
    "# Getting the number of pages of hotels in the city.\n",
    "page_count = int(driver.find_elements(By.CLASS_NAME, \"_fd15ae127\")[-2].text)"
   ]
  },
  {
   "cell_type": "markdown",
   "metadata": {},
   "source": [
    "This method get all the hotels urls in the page."
   ]
  },
  {
   "cell_type": "code",
   "execution_count": null,
   "metadata": {},
   "outputs": [],
   "source": [
    "def getPageUrls(driver):\n",
    "    currentPageHotelsUrl = []\n",
    "    html = driver.page_source\n",
    "    soup = BeautifulSoup(html, \"html.parser\")\n",
    "    for tab_row in soup.findAll(\"div\", attrs={'class': \"_12369ea61\"}):\n",
    "        currentPageHotelsUrl.append(tab_row.h3.find(\"a\")['href'])\n",
    "    return currentPageHotelsUrl"
   ]
  },
  {
   "cell_type": "markdown",
   "metadata": {},
   "source": [
    "# Crawling"
   ]
  },
  {
   "cell_type": "code",
   "execution_count": null,
   "metadata": {},
   "outputs": [],
   "source": [
    "for i in range(page_count):\n",
    "    main_page = driver.current_url\n",
    "    hotelsUrl = getPageUrls(driver)\n",
    "    \n",
    "    for j in range(1, len(hotelsUrl)):\n",
    "        driver.get(hotelsUrl[j])\n",
    "        time.sleep(1)\n",
    "        \n",
    "        # Parsing the page to BeautifulSoup.\n",
    "        html = driver.page_source\n",
    "        soup = BeautifulSoup(html, \"html.parser\")\n",
    "        \n",
    "        try:\n",
    "            ## all rating components:\n",
    "            rating_comp = soup.findAll('div', {\"class\": \"hp-gallery-review\"})[0]\n",
    "            rating_comp = rating_comp.findAll('p', {\"class\": \"review_score_value\"})\n",
    "            location_score.append(rating_comp[0].get_text())\n",
    "            cleanliness_score.append(rating_comp[1].get_text())\n",
    "            staff_score.append(rating_comp[2].get_text())\n",
    "            comfort_score.append(rating_comp[3].get_text())\n",
    "            value_for_money_score.append(rating_comp[4].get_text())\n",
    "            facilities_score.append(rating_comp[5].get_text())\n",
    "            \n",
    "            # Wifi score wasn't always available, therefore we checked if it exist before getting it.\n",
    "            if (len(rating_comp) == 7):\n",
    "                free_wifi_score.append(rating_comp[6].get_text())\n",
    "            else:\n",
    "                free_wifi_score.append(np.nan)\n",
    "            \n",
    "            ## get Number of hotel's stars\n",
    "            num_stars = soup.findAll('span', {\"class\": \"_3ae5d40db _617879812 _6ab38b430\"})\n",
    "            num_of_stars.append(len(num_stars))\n",
    "            \n",
    "            ## get Hotel's name\n",
    "            hotelName = WebDriverWait(driver, 10).until(EC.presence_of_element_located((By.ID, \"hp_hotel_name\")))\n",
    "            \n",
    "            # Some hotels were with a 'Hotel' prefix and others were not. That's why incase a hotel had this prefix, we deleted it.\n",
    "            if 'Hotel' in hotelName.text:\n",
    "                hotel_names.append(hotelName.text.replace('Hotel', '', 1))\n",
    "            else:\n",
    "                hotel_names.append(hotelName.text)\n",
    "                    \n",
    "            ## get Hotel's price\n",
    "            hotelPrice = WebDriverWait(driver, 10).until(\n",
    "                EC.presence_of_element_located((By.CLASS_NAME, \"prco-valign-middle-helper\")))\n",
    "            prices.append(hotelPrice.text.split()[1])\n",
    "            \n",
    "            ## get hotel's overall rating\n",
    "            hotelRating = WebDriverWait(driver, 10).until(\n",
    "                EC.presence_of_element_located((By.CLASS_NAME, \"hp-review-score-cta-container-remote\")))\n",
    "            ratingSumStr = hotelRating.text.split()\n",
    "            overall_rating.append(ratingSumStr[0])\n",
    "            \n",
    "            ## get Hotel's number of reviewers\n",
    "            try:\n",
    "                if ratingSumStr[4].replace(',', '').isdigit():\n",
    "                    num_of_reviews.append(ratingSumStr[4])\n",
    "                elif ratingSumStr[3].replace(',', '').isdigit():\n",
    "                    num_of_reviews.append(ratingSumStr[3])\n",
    "                else:\n",
    "                    num_of_reviews.append(np.nan)\n",
    "            except:\n",
    "                num_of_reviews.append(np.nan)\n",
    "            \n",
    "            ### get Hotel's surrounding container for further use:\n",
    "            top_attraction_container = driver.find_elements(By.CLASS_NAME, \"hp_location_block__section_container\")\n",
    "\n",
    "            ## get closest attraction distance (km)\n",
    "            value = [i.text.split('\\n')[2].split()[0] for i in top_attraction_container if\n",
    "                     i.text.split('\\n')[0] == \"Top attractions\"]\n",
    "            if len(value) != 0:\n",
    "                closest_attraction_dist.extend(value)\n",
    "            else:\n",
    "                closest_attraction_dist.append(np.nan)\n",
    "            \n",
    "            ## get closest transportation distance (km)\n",
    "            value = [i.text.split('\\n')[2].split()[0] for i in top_attraction_container if\n",
    "                     i.text.split('\\n')[0] == \"Public transit\"]\n",
    "            if len(value) != 0:\n",
    "                closest_transportation.extend(value)\n",
    "            else:\n",
    "                closest_transportation.append(np.nan)\n",
    "\n",
    "            ## get nearest airport dist\n",
    "            value = [i.text.split('\\n')[2].split()[0] for i in top_attraction_container if \n",
    "                     i.text.split('\\n')[0] == \"Closest Airports\"]\n",
    "            if len(value) != 0:\n",
    "                closest_airport.extend(value)\n",
    "            else:\n",
    "                closest_airport.append(np.nan)\n",
    "            \n",
    "            ### hotel facilities container for furthest crawl (like num of languages spoken)\n",
    "            hotel_facilities_container = driver.find_elements(By.CLASS_NAME, \"bui-spacer--large\")\n",
    "\n",
    "            value = [len(i.text.split('\\n')[1:]) for i in hotel_facilities_container if\n",
    "                     i.text.split('\\n')[0] == \"Languages Spoken\"]\n",
    "            if len(value) != 0:\n",
    "                num_of_languages_spoken.extend(value)\n",
    "            else:\n",
    "                num_of_languages_spoken.append(np.nan)\n",
    "            \n",
    "            ## get if pets allowed information\n",
    "            try:\n",
    "                # There we few different phrases for hotels that allow pets so we manipulated the string.\n",
    "                pets_section = driver.find_elements(By.CLASS_NAME, \"description--house-rule\")[0]\n",
    "                pets_phrase = pets_section.text.split('\\n')[1].split('.')[0]\n",
    "                if len(pets_section.text.split('\\n')) > 2:\n",
    "                    pets_phrase2 = pets_section.text.split('\\n')[2].split('.')[0]\n",
    "                else:\n",
    "                    pets_phrase2 = ''\n",
    "                \n",
    "                if pets_phrase == 'Pets are allowed on request' or pets_phrase == 'Pets are allowed' or pets_phrase2 == 'Pets are allowed':\n",
    "                    is_pets_allowed.append(True)\n",
    "                elif pets_phrase == 'Pets are not allowed' or pets_phrase2 == 'Pets are not allowed':\n",
    "                    is_pets_allowed.append(False)\n",
    "                else:\n",
    "                    is_pets_allowed.append(np.nan)\n",
    "\n",
    "            except:\n",
    "                is_pets_allowed.append(np.nan)\n",
    "\n",
    "            ## get num of credit cards available to pay with\n",
    "            try:\n",
    "                cards_accepted = driver.find_element(By.CLASS_NAME, \"payment_methods_overall\")\n",
    "                value = len(cards_accepted.find_elements(By.TAG_NAME, \"img\"))\n",
    "                if value != 0:\n",
    "                    num_of_payment_methods.append(value)\n",
    "                else:\n",
    "                    num_of_payment_methods.append(np.nan)\n",
    "\n",
    "            except:\n",
    "                num_of_payment_methods.append(np.nan)\n",
    "        \n",
    "        except:\n",
    "            print(\"exception accrued :( \" + str(i) + \", \" + str(j) + ' ' + hotel_names[-1])\n",
    "        \n",
    "    # After the crawler finished checking all the hotels in the current page, it will go back to the main hotels page\n",
    "    # and if it is not the last page the crawler will click on the 'next page' button.\n",
    "    driver.get(main_page)\n",
    "    if i != page_count - 1:\n",
    "        driver.find_elements(By.CLASS_NAME, \"_fd15ae127\")[-1].click()\n",
    "        time.sleep(2)\n",
    "            "
   ]
  },
  {
   "cell_type": "markdown",
   "metadata": {},
   "source": [
    "# Saving data to a dataframe and csv file"
   ]
  },
  {
   "cell_type": "code",
   "execution_count": null,
   "metadata": {},
   "outputs": [],
   "source": [
    "df = pd.DataFrame(\n",
    "    {\"Name\": hotel_names, \"City\": \"Seoul\", \"Price\": prices, \"Rating\": overall_rating, \"Stars\": num_of_stars,\n",
    "    \"Reviews\": num_of_reviews,\n",
    "    \"Location\": location_score, \"Cleanliness\": cleanliness_score, \"staff\": staff_score,\n",
    "    \"Comfort\": comfort_score, \"Value for Money\": value_for_money_score,\n",
    "    \"Facilities\": facilities_score, \"Wifi\": free_wifi_score,\n",
    "    \"Closest attraction dist\": closest_attraction_dist,\n",
    "    \"Closest transportation\": closest_transportation,\n",
    "    \"Closest airport\": closest_airport, \"payment methods\": num_of_payment_methods,\n",
    "    \"Number of languages\": num_of_languages_spoken,\n",
    "    \"Allowing pets\": is_pets_allowed})\n",
    "\n",
    "df.to_csv(r\"outSeoul.csv\", mode='w', index=False)  "
   ]
  }
 ],
 "metadata": {
  "kernelspec": {
   "display_name": "Python 3",
   "language": "python",
   "name": "python3"
  },
  "language_info": {
   "codemirror_mode": {
    "name": "ipython",
    "version": 3
   },
   "file_extension": ".py",
   "mimetype": "text/x-python",
   "name": "python",
   "nbconvert_exporter": "python",
   "pygments_lexer": "ipython3",
   "version": "3.7.1"
  }
 },
 "nbformat": 4,
 "nbformat_minor": 4
}
